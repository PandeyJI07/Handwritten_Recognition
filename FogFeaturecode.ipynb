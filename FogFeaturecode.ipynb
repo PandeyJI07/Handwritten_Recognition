{
 "cells": [
  {
   "cell_type": "code",
   "execution_count": 1,
   "id": "14be24a8",
   "metadata": {},
   "outputs": [],
   "source": [
    "import os\n",
    "import cv2\n",
    "from matplotlib import pyplot as plt\n",
    "import numpy as np\n",
    "import pandas as pd"
   ]
  },
  {
   "cell_type": "code",
   "execution_count": 2,
   "id": "0b756568",
   "metadata": {},
   "outputs": [],
   "source": [
    "# FUNCTION TO DISPLAY 3D IMAGES\n",
    "def display(path):\n",
    "  img = plt.imread(path)\n",
    "  dpi = 80\n",
    "  height , width , depth = img.shape\n",
    "  size = (width/float(dpi) , height/float(dpi))\n",
    "  fig = plt.figure(figsize = size)\n",
    "  ax = fig.add_axes([0,0,1,1])\n",
    "  ax.imshow(img , cmap = 'gray')\n",
    "  ax.axis('off')\n",
    "  plt.show()\n",
    "  return"
   ]
  },
  {
   "cell_type": "code",
   "execution_count": 3,
   "id": "724c948f",
   "metadata": {},
   "outputs": [],
   "source": [
    "# FUNCTION TO DISPLAY 2D IMAGES\n",
    "def display2D(path):\n",
    "  img = plt.imread(path)\n",
    "  dpi = 80\n",
    "  height , width = img.shape\n",
    "  size = (width/float(dpi) , height/float(dpi))\n",
    "  fig = plt.figure(figsize = size)\n",
    "  ax = fig.add_axes([0,0,1,1])\n",
    "  ax.imshow(img , cmap = 'gray')\n",
    "  ax.axis('off')\n",
    "  plt.show()\n",
    "  return"
   ]
  },
  {
   "cell_type": "code",
   "execution_count": 4,
   "id": "344b7b54",
   "metadata": {},
   "outputs": [],
   "source": [
    "# FUNCTIONS TO PREPROCESS IMAGES\n",
    "def preprocess(img):\n",
    "    gray_img = grayscale(img)\n",
    "    bw_img = binarize(gray_img)\n",
    "    filter_img = filtered(bw_img)\n",
    "    sample_img = resize(filter_img)\n",
    "    return sample_img"
   ]
  },
  {
   "cell_type": "code",
   "execution_count": 5,
   "id": "baeab748",
   "metadata": {},
   "outputs": [],
   "source": [
    "def grayscale(img):\n",
    "    temp = cv2.cvtColor(img , cv2.COLOR_BGR2GRAY)\n",
    "    return temp\n",
    "\n",
    "def binarize(img):\n",
    "    thresh , temp = cv2.threshold(img , 110 , 255 , cv2.THRESH_BINARY_INV + cv2.THRESH_OTSU)\n",
    "    return temp\n",
    "\n",
    "def filtered(img):\n",
    "    temp = cv2.medianBlur(img , 3)\n",
    "    return temp\n",
    "\n",
    "def resize(img):\n",
    "    temp = cv2.resize(img , (64,128))\n",
    "    for x in range(128):\n",
    "      for y in range(64):\n",
    "        temp[x][y] = temp[x][y]/255\n",
    "    return temp"
   ]
  },
  {
   "cell_type": "code",
   "execution_count": 6,
   "id": "dea8b200",
   "metadata": {},
   "outputs": [],
   "source": [
    "# FUNCTION TO EXTRACT FEATURES\n",
    "def extractfeatures(img , label):\n",
    "    #for 32 parts of img\n",
    "    new = img\n",
    "    feature_img=[]\n",
    "    for i in range(15 ,128 , 16):\n",
    "      for j in range(15 , 64 ,16):\n",
    "        #Now traversing each\n",
    "        entry = [0,0,0,0,0]\n",
    "        for k in range((i-15) , i):\n",
    "          for l in range((j-15) , j):\n",
    "            temp = [[new[k][l] , new[k][l+1]] , [new[k+1][l] , new[k+1][l+1]]]\n",
    "            window = np.array(temp)\n",
    "            if (((window[0][0]==window[1][1]==0)) and ((window[0][1]==window[1][0]==1))):\n",
    "              entry[0] = entry[0]+1\n",
    "\n",
    "            if (((window[0][0]==window[1][1]==1)) and ((window[0][1]==window[1][0]==0))):\n",
    "              entry[1] = entry[1]+1\n",
    "\n",
    "            if (((window[0][0]==window[0][1]==1)) and ((window[1][0]==window[1][1]==0)) or ((window[0][0]==window[0][1]==0)) and ((window[1][0]==window[1][1]==1))):\n",
    "              entry[2] = entry[2]+1\n",
    "\n",
    "            if (((window[0][0]==window[1][0]==1)) and ((window[0][1]==window[1][1]==0)) or ((window[0][0]==window[1][0]==0)) and ((window[0][1]==window[1][1]==1))):\n",
    "              entry[3] = entry[3]+1\n",
    "\n",
    "            if (window[0][0]==window[1][1]==window[0][1]==window[1][0]==1):\n",
    "              entry[4] = entry[4]+1\n",
    "\n",
    "        for b in range(5):\n",
    "          feature_img.append(entry[b])\n",
    "\n",
    "    feature_img.append(label)\n",
    "    feature_matrix = np.reshape(feature_img , (1,161))\n",
    "    column = ['F' , 'B' , 'H' , \"V\" , 'N']*32\n",
    "    column.append('LABEL')\n",
    "    temp_df = pd.DataFrame(feature_matrix , columns=column)\n",
    "    return temp_df"
   ]
  },
  {
   "cell_type": "code",
   "execution_count": 9,
   "id": "ff8972fe",
   "metadata": {},
   "outputs": [
    {
     "name": "stderr",
     "output_type": "stream",
     "text": [
     
