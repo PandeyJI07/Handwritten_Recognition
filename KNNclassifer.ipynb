{
 "cells": [
  {
   "cell_type": "code",
   "execution_count": 9,
   "id": "6801ef03",
   "metadata": {},
   "outputs": [],
   "source": [
    "import os\n",
    "import cv2\n",
    "from matplotlib import pyplot as plt\n",
    "import numpy as np\n",
    "import pandas as pd"
   ]
  },
  {
   "cell_type": "code",
   "execution_count": 10,
   "id": "3645f253",
   "metadata": {},
   "outputs": [],
   "source": [
    "def dist(x,y):\n",
    "  return sum([(x_i - y_i) ** 2 for x_i,y_i in zip(x,y)])**0.5"
   ]
  },
  {
   "cell_type": "code",
   "execution_count": 11,
   "id": "84aa2ee1",
   "metadata": {},
   "outputs": [],
   "source": [
    "def most_frequent(l):\n",
    "  return max(l , key=l.count)"
   ]
  },
  {
   "cell_type": "code",
   "execution_count": 12,
   "id": "7aef1d53",
   "metadata": {},
   "outputs": [],
   "source": [
    "def knn(X_Train , Y_Train , X_Test):\n",
    "    predicted = []\n",
    "    for sample in X_Test.itertuples():\n",
    "      sample_idx = sample[0]\n",
    "      sample_data = sample[1:161]\n",
    "      training_distances = []\n",
    "      for train in X_Train.itertuples():\n",
    "        train_idx = train[0]\n",
    "        train_data = train[1:161]\n",
    "        training_distances.append((dist(train_data , sample_data) , train_idx))\n",
    "      training_distances.sort()\n",
    "      candidates = training_distances[:3]\n",
    "      top_candidate = most_frequent(candidates)\n",
    "      top_candidate_idx = top_candidate[1]\n",
    "      # print(Y_Train[top_candidate_idx])\n",
    "      predicted.append(Y_Train[top_candidate_idx])\n",
    "      return predicted\n",
    "        \n",
    "        "
   ]
  },
  {
   "cell_type": "code",
   "execution_count": 27,
   "id": "f1bcb33b",
   "metadata": {},
   "outputs": [],
   "source": [
    "def knn_accuracy(predicted , Y_Test):\n",
    "    correct = 0\n",
    "    incorrect = 0\n",
    "    for a,b in zip(predicted , Y_Test):\n",
    "        if (a==b):\n",
    "            correct+=1\n",
    "        else:\n",
    "            incorrect+=1\n",
    "\n",
    "    accuracy = ((correct/len(predicted))*100)\n",
    "    return accuracy\n"
   ]
  },
  {
   "cell_type": "code",
   "execution_count": 28,
   "id": "8e42cff0",
   "metadata": {},
   "outputs": [
    {
     "name": "stdout",
     "output_type": "stream",
     "text": [
      "100.0\n"
     ]
    }
   ],
   "source": [
    "path1 = r\"E:\\capstone\\testMatrix.csv\"\n",
    "path2 = r\"E:\\capstone\\trainMatrix.csv\"\n",
    "\n",
    "test_images = pd.read_csv(path1)\n",
    "train_images = pd.read_csv(path2)\n",
    "\n",
    "Y_Train = train_images[\"LABEL\"]\n",
    "Y_Test = test_images[\"LABEL\"]\n",
    "# Y_Train = train_images[\"INDEX//\n",
    "train_images.drop(\"LABEL\" , inplace=True , axis=1)\n",
    "# train_images.drop(\"INDEX\" , inplace=True , axis=1)\n",
    "test_images.drop(\"LABEL\" , inplace=True , axis=1)\n",
    "# test_images.drop(\"INDEX\" , inplace=True , axis=1)\n",
    "X_Train = train_images\n",
    "X_Test = test_images\n",
    "predicted = knn(X_Train , Y_Train , X_Test)\n",
    "accuracy = knn_accuracy(predicted , Y_Test)\n",
    "print(accuracy)"
   ]
  },
  {
   "cell_type": "code",
   "execution_count": null,
   "id": "a8676375",
   "metadata": {},
   "outputs": [],
   "source": []
  },
  {
   "cell_type": "code",
   "execution_count": null,
   "id": "2a02aef9",
   "metadata": {},
   "outputs": [],
   "source": []
  }
 ],
 "metadata": {
  "kernelspec": {
   "display_name": "Python 3 (ipykernel)",
   "language": "python",
   "name": "python3"
  },
  "language_info": {
   "codemirror_mode": {
    "name": "ipython",
    "version": 3
   },
   "file_extension": ".py",
   "mimetype": "text/x-python",
   "name": "python",
   "nbconvert_exporter": "python",
   "pygments_lexer": "ipython3",
   "version": "3.11.1"
  }
 },
 "nbformat": 4,
 "nbformat_minor": 5
}
